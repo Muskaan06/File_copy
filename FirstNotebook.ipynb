{
  "nbformat": 4,
  "nbformat_minor": 0,
  "metadata": {
    "colab": {
      "name": "Copy of Untitled",
      "provenance": [],
      "include_colab_link": true
    },
    "kernelspec": {
      "name": "python3",
      "display_name": "Python 3"
    },
    "language_info": {
      "name": "python"
    }
  },
  "cells": [
    {
      "cell_type": "markdown",
      "metadata": {
        "id": "view-in-github",
        "colab_type": "text"
      },
      "source": [
        "<a href=\"https://colab.research.google.com/github/Muskaan06/File_copy/blob/main/FirstNotebook.ipynb\" target=\"_parent\"><img src=\"https://colab.research.google.com/assets/colab-badge.svg\" alt=\"Open In Colab\"/></a>"
      ]
    },
    {
      "cell_type": "code",
      "metadata": {
        "colab": {
          "base_uri": "https://localhost:8080/"
        },
        "id": "KGVNs5qVnSoP",
        "outputId": "6c20e8d9-90ce-45a0-840f-fc41828942b9"
      },
      "source": [
        "import numpy as np\n",
        "import tensorflow as tf\n",
        "# pravin was here again\n",
        "print('Muskaan Maurya was here')\n",
        "arr = np.array([1,2,3,4,5])\n",
        "\n",
        "print('testing')\n",
        "print('amisha')\n",
        "print('hi')\n",
        "print('pravin was here for the third time')\n",
        "print('hi again')\n",
        "print(arr)\n",
        "print('gaurav was here.')\n"
      ],
      "execution_count": 1,
      "outputs": [
        {
          "output_type": "stream",
          "text": [
            "Muskaan Maurya was here\n",
            "testing\n",
            "amisha\n",
            "hi\n",
            "pravin was here for the third time\n",
            "hi again\n",
            "[1 2 3 4 5]\n",
            "gaurav was here.\n"
          ],
          "name": "stdout"
        }
      ]
    }
  ]
}